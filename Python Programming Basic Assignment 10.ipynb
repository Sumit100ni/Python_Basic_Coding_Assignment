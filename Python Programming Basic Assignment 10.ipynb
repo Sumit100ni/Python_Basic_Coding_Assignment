{
 "cells": [
  {
   "cell_type": "markdown",
   "id": "afe2c1b1",
   "metadata": {},
   "source": [
    "# 1.) Write a Python program to find sum of elements in list?"
   ]
  },
  {
   "cell_type": "code",
   "execution_count": 3,
   "id": "242e3b3f",
   "metadata": {},
   "outputs": [],
   "source": [
    "def sum_list(*args):\n",
    "    l=[]\n",
    "    s=0\n",
    "    try:\n",
    "        for i in args:\n",
    "            l.append(i)\n",
    "        for i in l:\n",
    "            s+=i\n",
    "        return s\n",
    "    except Exception as e:\n",
    "        return e"
   ]
  },
  {
   "cell_type": "code",
   "execution_count": 5,
   "id": "44e7558e",
   "metadata": {
    "scrolled": true
   },
   "outputs": [
    {
     "data": {
      "text/plain": [
       "6"
      ]
     },
     "execution_count": 5,
     "metadata": {},
     "output_type": "execute_result"
    }
   ],
   "source": [
    "sum_list(1,2,3)"
   ]
  },
  {
   "cell_type": "markdown",
   "id": "49652214",
   "metadata": {},
   "source": [
    "# 2.) Write a Python program to  Multiply all numbers in the list?"
   ]
  },
  {
   "cell_type": "code",
   "execution_count": 6,
   "id": "bc3c2868",
   "metadata": {},
   "outputs": [],
   "source": [
    "def mul_list(*args):\n",
    "    l=[]\n",
    "    s=1\n",
    "    try:\n",
    "        for i in args:\n",
    "            l.append(i)\n",
    "        for i in l:\n",
    "            s*=i\n",
    "        return s\n",
    "    except Exception as e:\n",
    "        return e"
   ]
  },
  {
   "cell_type": "code",
   "execution_count": 10,
   "id": "0369e119",
   "metadata": {},
   "outputs": [
    {
     "data": {
      "text/plain": [
       "36"
      ]
     },
     "execution_count": 10,
     "metadata": {},
     "output_type": "execute_result"
    }
   ],
   "source": [
    "mul_list(1,2,3,6)"
   ]
  },
  {
   "cell_type": "markdown",
   "id": "bc4e70a3",
   "metadata": {},
   "source": [
    "# 3.) Write a Python program to find smallest number in a list?"
   ]
  },
  {
   "cell_type": "code",
   "execution_count": 36,
   "id": "38b0bbcd",
   "metadata": {},
   "outputs": [],
   "source": [
    "def small_list(*args):\n",
    "    l=[]\n",
    "    try:\n",
    "        for i in args:\n",
    "            l.append(i)\n",
    "        l.sort()\n",
    "        return l[0]\n",
    "    except Exception as e:\n",
    "        return e"
   ]
  },
  {
   "cell_type": "code",
   "execution_count": 39,
   "id": "8d2a9d30",
   "metadata": {},
   "outputs": [
    {
     "data": {
      "text/plain": [
       "-1.9"
      ]
     },
     "execution_count": 39,
     "metadata": {},
     "output_type": "execute_result"
    }
   ],
   "source": [
    "small_list(1,2,30,0,-1.9)"
   ]
  },
  {
   "cell_type": "markdown",
   "id": "d702d20b",
   "metadata": {},
   "source": [
    "# 4.) Write a Python program to find largest number in a list?"
   ]
  },
  {
   "cell_type": "code",
   "execution_count": 40,
   "id": "a2ecf39a",
   "metadata": {},
   "outputs": [],
   "source": [
    "def large_list(*args):\n",
    "    l=[]\n",
    "    try:\n",
    "        for i in args:\n",
    "            l.append(i)\n",
    "        l.sort(reverse=True)\n",
    "        return l[0]\n",
    "    except Exception as e:\n",
    "        return e"
   ]
  },
  {
   "cell_type": "code",
   "execution_count": 41,
   "id": "d15dfdb2",
   "metadata": {},
   "outputs": [
    {
     "data": {
      "text/plain": [
       "9"
      ]
     },
     "execution_count": 41,
     "metadata": {},
     "output_type": "execute_result"
    }
   ],
   "source": [
    "large_list(1,2,3,4,5,6,7,8,9)"
   ]
  },
  {
   "cell_type": "markdown",
   "id": "cfd19e1b",
   "metadata": {},
   "source": [
    "# 5.) Write a Python program to find second largest number in a list?"
   ]
  },
  {
   "cell_type": "code",
   "execution_count": 42,
   "id": "045e8423",
   "metadata": {},
   "outputs": [],
   "source": [
    "def second_large_list(*args):\n",
    "    l=[]\n",
    "    try:\n",
    "        for i in args:\n",
    "            l.append(i)\n",
    "        l.sort(reverse=True)\n",
    "        return l[1]\n",
    "    except Exception as e:\n",
    "        return e"
   ]
  },
  {
   "cell_type": "code",
   "execution_count": 43,
   "id": "38ae2fe9",
   "metadata": {},
   "outputs": [
    {
     "data": {
      "text/plain": [
       "9"
      ]
     },
     "execution_count": 43,
     "metadata": {},
     "output_type": "execute_result"
    }
   ],
   "source": [
    "second_large_list(1,2,3,4,5,6,7,89,9)"
   ]
  },
  {
   "cell_type": "markdown",
   "id": "93e57c22",
   "metadata": {},
   "source": [
    "# 6.) Write a Python program to find N largest elements from a list?"
   ]
  },
  {
   "cell_type": "code",
   "execution_count": 45,
   "id": "e4280d0a",
   "metadata": {},
   "outputs": [],
   "source": [
    "def choice_large_list(*args):\n",
    "    n=int(input('Enter the nth largest number you want to see: '))\n",
    "    l=[]\n",
    "    try:\n",
    "        for i in args:\n",
    "            l.append(i)\n",
    "        l.sort()\n",
    "        return l[-n]\n",
    "    except Exception as e:\n",
    "        return e"
   ]
  },
  {
   "cell_type": "code",
   "execution_count": 48,
   "id": "75002759",
   "metadata": {},
   "outputs": [
    {
     "name": "stdout",
     "output_type": "stream",
     "text": [
      "Enter the nth largest number you want to see: 9\n"
     ]
    },
    {
     "data": {
      "text/plain": [
       "1"
      ]
     },
     "execution_count": 48,
     "metadata": {},
     "output_type": "execute_result"
    }
   ],
   "source": [
    "choice_large_list(1,2,3,4,5,6,7,8,9)"
   ]
  },
  {
   "cell_type": "markdown",
   "id": "340685b6",
   "metadata": {},
   "source": [
    "# 7.) Write a Python program to print even numbers in a list?"
   ]
  },
  {
   "cell_type": "code",
   "execution_count": 49,
   "id": "98f867e6",
   "metadata": {},
   "outputs": [],
   "source": [
    "def even_list(*args):\n",
    "    even=[]\n",
    "    try:\n",
    "        for i in args:\n",
    "            if i%2==0:\n",
    "                even.append(i)\n",
    "        return even\n",
    "    except Exception as e:\n",
    "        return e\n"
   ]
  },
  {
   "cell_type": "code",
   "execution_count": 50,
   "id": "00b8e26a",
   "metadata": {},
   "outputs": [
    {
     "data": {
      "text/plain": [
       "[2, 4, 6, 8]"
      ]
     },
     "execution_count": 50,
     "metadata": {},
     "output_type": "execute_result"
    }
   ],
   "source": [
    "even_list(1,2,3,4,5,6,7,8,9)"
   ]
  },
  {
   "cell_type": "markdown",
   "id": "cad00ac1",
   "metadata": {},
   "source": [
    "# 8.) Write a Python program to print odd numbers in a List?"
   ]
  },
  {
   "cell_type": "code",
   "execution_count": 51,
   "id": "ed59441e",
   "metadata": {},
   "outputs": [],
   "source": [
    "def odd_list(*args):\n",
    "    odd=[]\n",
    "    try:\n",
    "        for i in args:\n",
    "            if i%2!=0:\n",
    "                odd.append(i)\n",
    "        return odd\n",
    "    except Exception as e:\n",
    "        return e"
   ]
  },
  {
   "cell_type": "code",
   "execution_count": 52,
   "id": "1126d246",
   "metadata": {},
   "outputs": [
    {
     "data": {
      "text/plain": [
       "[1, 3, 5, 7, 9]"
      ]
     },
     "execution_count": 52,
     "metadata": {},
     "output_type": "execute_result"
    }
   ],
   "source": [
    "odd_list(1,2,3,4,5,6,7,8,9)"
   ]
  },
  {
   "cell_type": "markdown",
   "id": "581b7afe",
   "metadata": {},
   "source": [
    "# 9.) Write a Python program to Remove empty List from List?"
   ]
  },
  {
   "cell_type": "code",
   "execution_count": 57,
   "id": "da9e8ef1",
   "metadata": {},
   "outputs": [],
   "source": [
    "def empty_list(*args):\n",
    "    l=[]\n",
    "    ne=[]\n",
    "    try:\n",
    "        for i in args:\n",
    "            l.append(i)\n",
    "        for i in l:\n",
    "            if i!=[]:\n",
    "                ne.append(i)\n",
    "        return ne\n",
    "    except Exception as e:\n",
    "        return e"
   ]
  },
  {
   "cell_type": "code",
   "execution_count": 58,
   "id": "b4c49310",
   "metadata": {},
   "outputs": [
    {
     "data": {
      "text/plain": [
       "[1, 2, 3, 4, 5, [1, 2, 3]]"
      ]
     },
     "execution_count": 58,
     "metadata": {},
     "output_type": "execute_result"
    }
   ],
   "source": [
    "empty_list(1,2,3,4,5,[1,2,3],[])"
   ]
  },
  {
   "cell_type": "markdown",
   "id": "dbc9edeb",
   "metadata": {},
   "source": [
    "# 10.) Write a Python program to Cloning or Copying a list?"
   ]
  },
  {
   "cell_type": "code",
   "execution_count": 59,
   "id": "8acf5d7b",
   "metadata": {},
   "outputs": [
    {
     "name": "stdout",
     "output_type": "stream",
     "text": [
      "Original List: [4, 8, 2, 10, 15, 18]\n",
      "After Cloning: [4, 8, 2, 10, 15, 18]\n"
     ]
    }
   ],
   "source": [
    "def Cloning(li1):\n",
    "    li_copy = li1[:]\n",
    "    return li_copy\n",
    "\n",
    "\n",
    "li1 = [4, 8, 2, 10, 15, 18]\n",
    "li2 = Cloning(li1)\n",
    "print(\"Original List:\", li1)\n",
    "print(\"After Cloning:\", li2)"
   ]
  },
  {
   "cell_type": "markdown",
   "id": "08933271",
   "metadata": {},
   "source": [
    "# 11.) Write a Python program to Count occurrences of an element in a list?"
   ]
  },
  {
   "cell_type": "code",
   "execution_count": 63,
   "id": "bd119656",
   "metadata": {},
   "outputs": [],
   "source": [
    "def countX(lst, x):\n",
    "    count = 0\n",
    "    for ele in lst:\n",
    "        if (ele == x):\n",
    "            count = count + 1\n",
    "    return count\n",
    "    "
   ]
  },
  {
   "cell_type": "code",
   "execution_count": 64,
   "id": "9f052cf5",
   "metadata": {},
   "outputs": [
    {
     "data": {
      "text/plain": [
       "1"
      ]
     },
     "execution_count": 64,
     "metadata": {},
     "output_type": "execute_result"
    }
   ],
   "source": [
    "count_list(1,2,3,4,5,1)"
   ]
  }
 ],
 "metadata": {
  "kernelspec": {
   "display_name": "Python 3 (ipykernel)",
   "language": "python",
   "name": "python3"
  },
  "language_info": {
   "codemirror_mode": {
    "name": "ipython",
    "version": 3
   },
   "file_extension": ".py",
   "mimetype": "text/x-python",
   "name": "python",
   "nbconvert_exporter": "python",
   "pygments_lexer": "ipython3",
   "version": "3.9.12"
  }
 },
 "nbformat": 4,
 "nbformat_minor": 5
}
