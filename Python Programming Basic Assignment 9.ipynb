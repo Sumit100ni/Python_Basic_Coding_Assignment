{
 "cells": [
  {
   "cell_type": "markdown",
   "id": "afc9646b",
   "metadata": {},
   "source": [
    "# 1.) Write a Python program to check if the given number is a Disarium Number?"
   ]
  },
  {
   "cell_type": "code",
   "execution_count": 1,
   "id": "f7430765",
   "metadata": {},
   "outputs": [],
   "source": [
    "def is_disarium(num):\n",
    "    temp=0\n",
    "    for i in range(len(str(num))):\n",
    "        temp+=int(str(num)[i])**(i+1)\n",
    "    return temp==num"
   ]
  },
  {
   "cell_type": "code",
   "execution_count": 5,
   "id": "41a47238",
   "metadata": {},
   "outputs": [
    {
     "data": {
      "text/plain": [
       "True"
      ]
     },
     "execution_count": 5,
     "metadata": {},
     "output_type": "execute_result"
    }
   ],
   "source": [
    "is_disarium(175)"
   ]
  },
  {
   "cell_type": "code",
   "execution_count": 6,
   "id": "a32f47ec",
   "metadata": {},
   "outputs": [
    {
     "data": {
      "text/plain": [
       "False"
      ]
     },
     "execution_count": 6,
     "metadata": {},
     "output_type": "execute_result"
    }
   ],
   "source": [
    "is_disarium(79)"
   ]
  },
  {
   "cell_type": "markdown",
   "id": "42dab97d",
   "metadata": {},
   "source": [
    "# 2.) Write a Python program to print all disarium numbers between 1 to 100?"
   ]
  },
  {
   "cell_type": "code",
   "execution_count": 19,
   "id": "ea824693",
   "metadata": {},
   "outputs": [],
   "source": [
    "def is_disarium_range_test(n,m):\n",
    "    l=[]\n",
    "    for z in range(n,m+1):\n",
    "        l.append(z)\n",
    "    for i in (l):\n",
    "        k=[]\n",
    "        temp=0\n",
    "        for j in range(len(str(i))):\n",
    "            temp+=int(str(i)[j])**(j+1)\n",
    "        if temp==i:\n",
    "            print(i)"
   ]
  },
  {
   "cell_type": "code",
   "execution_count": 21,
   "id": "0229e87d",
   "metadata": {},
   "outputs": [],
   "source": [
    "def is_disarium_range_test(n,m):\n",
    "    l=[]\n",
    "    for z in range(n,m+1):\n",
    "        l.append(z)\n",
    "    k=[]\n",
    "    for i in (l):\n",
    "        temp=0\n",
    "        for j in range(len(str(i))):\n",
    "            temp+=int(str(i)[j])**(j+1)\n",
    "        if temp==i:\n",
    "            k.append(i)\n",
    "    return k"
   ]
  },
  {
   "cell_type": "code",
   "execution_count": 22,
   "id": "2b6c9c6a",
   "metadata": {
    "scrolled": true
   },
   "outputs": [
    {
     "data": {
      "text/plain": [
       "[1, 2, 3, 4, 5, 6, 7, 8, 9, 89, 135, 175, 518, 598]"
      ]
     },
     "execution_count": 22,
     "metadata": {},
     "output_type": "execute_result"
    }
   ],
   "source": [
    "is_disarium_range_test(1,1000)"
   ]
  },
  {
   "cell_type": "markdown",
   "id": "8f622ad1",
   "metadata": {},
   "source": [
    "# 3.) Write a Python program to check if the given number is Happy Number?"
   ]
  },
  {
   "cell_type": "code",
   "execution_count": 16,
   "id": "7196a65a",
   "metadata": {},
   "outputs": [
    {
     "data": {
      "text/plain": [
       "False"
      ]
     },
     "execution_count": 16,
     "metadata": {},
     "output_type": "execute_result"
    }
   ],
   "source": [
    "def is_Happy(n):\n",
    "    p=set()\n",
    "    while n!=1:\n",
    "        n=sum(int(i)**2 for i in str(n))\n",
    "#         print(n)\n",
    "        if n in p:\n",
    "            return False\n",
    "        p.add(n)\n",
    "    return True\n",
    "\n",
    "is_Happy(6)"
   ]
  },
  {
   "cell_type": "markdown",
   "id": "3f03e8b7",
   "metadata": {},
   "source": [
    "# 4.) Write a Python program to print all happy numbers between 1 and 100?"
   ]
  },
  {
   "cell_type": "code",
   "execution_count": 56,
   "id": "9372e4b5",
   "metadata": {
    "scrolled": true
   },
   "outputs": [
    {
     "name": "stdout",
     "output_type": "stream",
     "text": [
      "List of happy numbers between 1 and 100: \n",
      "1\n",
      " \n",
      "7\n",
      " \n",
      "10\n",
      " \n",
      "13\n",
      " \n",
      "19\n",
      " \n",
      "23\n",
      " \n",
      "28\n",
      " \n",
      "31\n",
      " \n",
      "32\n",
      " \n",
      "44\n",
      " \n",
      "49\n",
      " \n",
      "68\n",
      " \n",
      "70\n",
      " \n",
      "79\n",
      " \n",
      "82\n",
      " \n",
      "86\n",
      " \n",
      "91\n",
      " \n",
      "94\n",
      " \n",
      "97\n",
      " \n",
      "100\n",
      " \n"
     ]
    }
   ],
   "source": [
    "def isHappyNumber(num):    \n",
    "    rem = sum = 0;    \n",
    "        \n",
    "        \n",
    "    while(num > 0):    \n",
    "        rem = num%10;    \n",
    "        sum = sum + (rem*rem);    \n",
    "        num = num//10;    \n",
    "    return sum;\n",
    "   \n",
    "print(\"List of happy numbers between 1 and 100: \");    \n",
    "for i in range(1, 101):    \n",
    "    result = i;    \n",
    "        \n",
    "        \n",
    "      \n",
    "    while(result != 1 and result != 4):    \n",
    "        result = isHappyNumber(result);    \n",
    "        \n",
    "    if(result == 1):    \n",
    "        print(i),    \n",
    "        print(\" \"),"
   ]
  },
  {
   "cell_type": "markdown",
   "id": "d52ca351",
   "metadata": {},
   "source": [
    "# 5.) Write a Python program to determine whether the given number is a Harshad Number?"
   ]
  },
  {
   "cell_type": "code",
   "execution_count": 96,
   "id": "170e2d07",
   "metadata": {},
   "outputs": [],
   "source": [
    "def isharshad(n):\n",
    "    a=n\n",
    "    s=0\n",
    "    for i in range(len(str(a))):\n",
    "        s+=int(str(a)[i])\n",
    "    if n%s==0:\n",
    "        return f'{n} is a Harshad Number'\n",
    "    else:\n",
    "        return f'{n} is not a Harshad Number'"
   ]
  },
  {
   "cell_type": "code",
   "execution_count": 98,
   "id": "7c809574",
   "metadata": {},
   "outputs": [
    {
     "data": {
      "text/plain": [
       "'157 is not a Harshad Number'"
      ]
     },
     "execution_count": 98,
     "metadata": {},
     "output_type": "execute_result"
    }
   ],
   "source": [
    "isharshad(157)"
   ]
  },
  {
   "cell_type": "markdown",
   "id": "9b4d430f",
   "metadata": {},
   "source": [
    "# 6.) Write a Python program to print all pronic numbers between 1 and 100?"
   ]
  },
  {
   "cell_type": "code",
   "execution_count": 76,
   "id": "98fbe38d",
   "metadata": {},
   "outputs": [
    {
     "name": "stdout",
     "output_type": "stream",
     "text": [
      "0 2 6 12 20 30 42 56 72 90 "
     ]
    }
   ],
   "source": [
    "import math\n",
    "def checkPronic (x) :\n",
    " \n",
    "    i = 0\n",
    "    while ( i <= (int)(math.sqrt(x)) ) :\n",
    "        if ( x == i * (i + 1)) :\n",
    "            return True\n",
    "        i = i + 1\n",
    " \n",
    "    return False\n",
    "\n",
    "i=0\n",
    "while (i <= 100 ) :\n",
    "    if checkPronic(i) :\n",
    "        print(i,end=' ')\n",
    "    i = i + 1\n"
   ]
  }
 ],
 "metadata": {
  "kernelspec": {
   "display_name": "Python 3 (ipykernel)",
   "language": "python",
   "name": "python3"
  },
  "language_info": {
   "codemirror_mode": {
    "name": "ipython",
    "version": 3
   },
   "file_extension": ".py",
   "mimetype": "text/x-python",
   "name": "python",
   "nbconvert_exporter": "python",
   "pygments_lexer": "ipython3",
   "version": "3.9.12"
  }
 },
 "nbformat": 4,
 "nbformat_minor": 5
}
