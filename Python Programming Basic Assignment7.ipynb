{
 "cells": [
  {
   "cell_type": "markdown",
   "id": "34727963",
   "metadata": {},
   "source": [
    "# 1.) Write a Python Program to find sum of array?"
   ]
  },
  {
   "cell_type": "code",
   "execution_count": 6,
   "id": "f163dc4d",
   "metadata": {},
   "outputs": [],
   "source": [
    "def sum_arr(*args):\n",
    "    s=0\n",
    "    for i in args:\n",
    "        if type(i) in (complex,str,list,bool,dict,tuple,set):\n",
    "            print('INVALID INPUT')\n",
    "            break\n",
    "        else:\n",
    "            s+=i\n",
    "    return s"
   ]
  },
  {
   "cell_type": "code",
   "execution_count": 8,
   "id": "dc9f0766",
   "metadata": {},
   "outputs": [
    {
     "data": {
      "text/plain": [
       "73497"
      ]
     },
     "execution_count": 8,
     "metadata": {},
     "output_type": "execute_result"
    }
   ],
   "source": [
    "sum_arr(73432,56,9)"
   ]
  },
  {
   "cell_type": "markdown",
   "id": "a80a313c",
   "metadata": {},
   "source": [
    "# 2.) Write a Python Program to find largest element in an array?"
   ]
  },
  {
   "cell_type": "code",
   "execution_count": 23,
   "id": "2381e1b3",
   "metadata": {},
   "outputs": [],
   "source": [
    "def lar_arr(*args):\n",
    "    s=[]\n",
    "    try:\n",
    "        for i in args:\n",
    "            if type(i) in (complex,str,list,bool,dict,tuple,set):\n",
    "                print('INVALID INPUT')\n",
    "                break\n",
    "            elif type(i) in (int,float):\n",
    "                s.append(i)\n",
    "            else:\n",
    "                print('Hence No Output')\n",
    "            s.sort()\n",
    "        return s[-1]\n",
    "    except Exception as e:\n",
    "        print(e)"
   ]
  },
  {
   "cell_type": "code",
   "execution_count": 25,
   "id": "4e26e06a",
   "metadata": {},
   "outputs": [
    {
     "data": {
      "text/plain": [
       "76767676"
      ]
     },
     "execution_count": 25,
     "metadata": {},
     "output_type": "execute_result"
    }
   ],
   "source": [
    "lar_arr(9,4,5,76767676)"
   ]
  },
  {
   "cell_type": "markdown",
   "id": "97b3f724",
   "metadata": {},
   "source": [
    "# 3.) Write a Python Program for array rotation?"
   ]
  },
  {
   "cell_type": "code",
   "execution_count": 38,
   "id": "30d8e8c7",
   "metadata": {},
   "outputs": [],
   "source": [
    "def rot_arr(*args):\n",
    "    s=[]\n",
    "    try:\n",
    "        for i in args:\n",
    "            s.append(i)\n",
    "        return s[::-1]\n",
    "    except Exception as e:\n",
    "        print(e)"
   ]
  },
  {
   "cell_type": "code",
   "execution_count": 40,
   "id": "d7c51b87",
   "metadata": {},
   "outputs": [
    {
     "data": {
      "text/plain": [
       "[8, 78, 6, 45, [1, 2, 3, 5]]"
      ]
     },
     "execution_count": 40,
     "metadata": {},
     "output_type": "execute_result"
    }
   ],
   "source": [
    "rot_arr([1,2,3,5],45,6,78,8)"
   ]
  },
  {
   "cell_type": "markdown",
   "id": "cbd0cae6",
   "metadata": {},
   "source": [
    "# 4.) Write a Python Program to Split the array and add the first part to the end?"
   ]
  },
  {
   "cell_type": "code",
   "execution_count": 35,
   "id": "cf41554a",
   "metadata": {},
   "outputs": [],
   "source": [
    "def split_arr(*args):\n",
    "    try:\n",
    "        s=[]\n",
    "        for i in args:\n",
    "            s.append(i)\n",
    "        i=int(input('Enter till how element you want to split: '))\n",
    "        if i>len(s):\n",
    "            print('Invalid Input')\n",
    "        else:\n",
    "            s[:]=s[i:len(s)]+s[0:i]\n",
    "        return s\n",
    "    except Exception as e:\n",
    "        return e"
   ]
  },
  {
   "cell_type": "code",
   "execution_count": 37,
   "id": "dc842b87",
   "metadata": {},
   "outputs": [
    {
     "name": "stdout",
     "output_type": "stream",
     "text": [
      "Enter till how element you want to split: 3\n"
     ]
    },
    {
     "data": {
      "text/plain": [
       "[4, 5, 6, 7, [1, 2, 3, 4, 67, 9], {'Name': 'Darpan'}, 1, 2, 3]"
      ]
     },
     "execution_count": 37,
     "metadata": {},
     "output_type": "execute_result"
    }
   ],
   "source": [
    "split_arr(1,2,3,4,5,6,7,[1,2,3,4,67,9],{'Name':'Darpan'})"
   ]
  },
  {
   "cell_type": "markdown",
   "id": "a4420a26",
   "metadata": {},
   "source": [
    "# 5. ) Write a Python Program to check if given array is Monotonic?"
   ]
  },
  {
   "cell_type": "code",
   "execution_count": 59,
   "id": "661b4713",
   "metadata": {},
   "outputs": [],
   "source": [
    "def mon_arr(*args):\n",
    "  \n",
    "    return (all(args[i] <= args[i + 1] for i in range(len(args) - 1)) or\n",
    "            all(args[i] >= args[i + 1] for i in range(len(args) - 1)))"
   ]
  },
  {
   "cell_type": "code",
   "execution_count": 60,
   "id": "57e46f84",
   "metadata": {},
   "outputs": [
    {
     "data": {
      "text/plain": [
       "False"
      ]
     },
     "execution_count": 60,
     "metadata": {},
     "output_type": "execute_result"
    }
   ],
   "source": [
    "mon_arr(1,2,3,4,66,5,6,7,8)"
   ]
  }
 ],
 "metadata": {
  "kernelspec": {
   "display_name": "Python 3 (ipykernel)",
   "language": "python",
   "name": "python3"
  },
  "language_info": {
   "codemirror_mode": {
    "name": "ipython",
    "version": 3
   },
   "file_extension": ".py",
   "mimetype": "text/x-python",
   "name": "python",
   "nbconvert_exporter": "python",
   "pygments_lexer": "ipython3",
   "version": "3.9.12"
  }
 },
 "nbformat": 4,
 "nbformat_minor": 5
}
