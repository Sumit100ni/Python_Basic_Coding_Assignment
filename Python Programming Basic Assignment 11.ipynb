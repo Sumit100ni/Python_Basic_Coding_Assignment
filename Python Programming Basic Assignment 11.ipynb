{
 "cells": [
  {
   "cell_type": "markdown",
   "id": "ae0e81d4",
   "metadata": {},
   "source": [
    "# 1.) Write a Python program to find words which are greater than given length k?"
   ]
  },
  {
   "cell_type": "code",
   "execution_count": 4,
   "id": "76f4439c",
   "metadata": {},
   "outputs": [],
   "source": [
    "def count_greater(*args):\n",
    "    l=[]\n",
    "    try:\n",
    "        for i in args:\n",
    "            l.append(i)\n",
    "        count=0\n",
    "        k=int(input('Enter the length you want to check that the words are greater than you input: '))\n",
    "        for i in l:\n",
    "            if len(str(i))>k:\n",
    "                count+=1\n",
    "        return count\n",
    "    except Exception as e:\n",
    "        return e"
   ]
  },
  {
   "cell_type": "code",
   "execution_count": 5,
   "id": "f7857dc1",
   "metadata": {
    "scrolled": false
   },
   "outputs": [
    {
     "name": "stdout",
     "output_type": "stream",
     "text": [
      "Enter the length you want to check that the words are greater than you input: 6\n"
     ]
    },
    {
     "data": {
      "text/plain": [
       "0"
      ]
     },
     "execution_count": 5,
     "metadata": {},
     "output_type": "execute_result"
    }
   ],
   "source": [
    "count_greater('aarti','Darpan','Nitin','Navin','Tanay','Pranay')"
   ]
  },
  {
   "cell_type": "markdown",
   "id": "96f02921",
   "metadata": {},
   "source": [
    "# 2.) Write a Python program for removing i-th character from a string?"
   ]
  },
  {
   "cell_type": "code",
   "execution_count": 15,
   "id": "f5815a79",
   "metadata": {},
   "outputs": [],
   "source": [
    "def removing_ith_char(st):\n",
    "    i=int(input('Enter the Position of the Alphabet you want to remove: '))\n",
    "    s=st.replace(st[i-1],'',1)\n",
    "    return s"
   ]
  },
  {
   "cell_type": "code",
   "execution_count": 16,
   "id": "273fc2ee",
   "metadata": {},
   "outputs": [
    {
     "name": "stdout",
     "output_type": "stream",
     "text": [
      "Enter the Position of the Alphabet you want to remove: 5\n"
     ]
    },
    {
     "data": {
      "text/plain": [
       "'My nme is Darpan'"
      ]
     },
     "execution_count": 16,
     "metadata": {},
     "output_type": "execute_result"
    }
   ],
   "source": [
    "removing_ith_char('My name is Darpan')"
   ]
  },
  {
   "cell_type": "markdown",
   "id": "9da9bfa2",
   "metadata": {},
   "source": [
    "# 3.) Write a Python program to split and join a string?"
   ]
  },
  {
   "cell_type": "code",
   "execution_count": 2,
   "id": "55460d91",
   "metadata": {},
   "outputs": [],
   "source": [
    "def split_join(string):\n",
    "    a=input('Enter The Character you want to split')\n",
    "    b=string.split(a,1)\n",
    "    c=''\n",
    "    for i in b:\n",
    "        c+=i\n",
    "    return c"
   ]
  },
  {
   "cell_type": "code",
   "execution_count": 3,
   "id": "cd71393a",
   "metadata": {},
   "outputs": [
    {
     "name": "stdout",
     "output_type": "stream",
     "text": [
      "Enter The Character you want to splity\n"
     ]
    },
    {
     "data": {
      "text/plain": [
       "'M Name is Darpan'"
      ]
     },
     "execution_count": 3,
     "metadata": {},
     "output_type": "execute_result"
    }
   ],
   "source": [
    "split_join('My Name is Darpan')"
   ]
  },
  {
   "cell_type": "markdown",
   "id": "9be673c9",
   "metadata": {},
   "source": [
    "# 4.) Write a Python to check if a given string is binary string or not?"
   ]
  },
  {
   "cell_type": "code",
   "execution_count": 12,
   "id": "87a7939f",
   "metadata": {},
   "outputs": [],
   "source": [
    "def binary_or_not(s):\n",
    "    for i in str(s):\n",
    "        if i in ('1' or '0'):\n",
    "            return 'This is Binary'\n",
    "        else:\n",
    "            return 'This is not a binary'"
   ]
  },
  {
   "cell_type": "code",
   "execution_count": 13,
   "id": "81fc3335",
   "metadata": {
    "scrolled": true
   },
   "outputs": [
    {
     "data": {
      "text/plain": [
       "'This is Binary'"
      ]
     },
     "execution_count": 13,
     "metadata": {},
     "output_type": "execute_result"
    }
   ],
   "source": [
    "binary_or_not(11001)"
   ]
  },
  {
   "cell_type": "markdown",
   "id": "8b77fa59",
   "metadata": {},
   "source": [
    "# 5.) Write a Python program to find uncommon words from two Strings?"
   ]
  },
  {
   "cell_type": "code",
   "execution_count": 14,
   "id": "f26d9028",
   "metadata": {},
   "outputs": [],
   "source": [
    "def uncommon_words(s,t):\n",
    "    n=[]\n",
    "    k=[]\n",
    "    un1=[]\n",
    "    un2=[]\n",
    "    for i in str(s):\n",
    "        n.append(i)\n",
    "    for i in str(t):\n",
    "        k.append(i)\n",
    "    for j in n:\n",
    "        if j not in k:\n",
    "            un1.append(j)\n",
    "    for j in k:\n",
    "        if j not in n:\n",
    "            un2.append(j)\n",
    "    un=un1+un2\n",
    "    un=set(un)\n",
    "    un=list(un)\n",
    "    return un"
   ]
  },
  {
   "cell_type": "code",
   "execution_count": 18,
   "id": "9eedf6dc",
   "metadata": {},
   "outputs": [
    {
     "data": {
      "text/plain": [
       "['8', '2', '5', '7', '1', '6', '0', '4', '3', '9']"
      ]
     },
     "execution_count": 18,
     "metadata": {},
     "output_type": "execute_result"
    }
   ],
   "source": [
    "uncommon_words(12345,67890)"
   ]
  },
  {
   "cell_type": "markdown",
   "id": "cfdbe748",
   "metadata": {},
   "source": [
    "# 6.) Write a Python to find all duplicate characters in string?"
   ]
  },
  {
   "cell_type": "code",
   "execution_count": 20,
   "id": "ad45e798",
   "metadata": {},
   "outputs": [],
   "source": [
    "def common_words(s,t):\n",
    "    n=[]\n",
    "    k=[]\n",
    "    un1=[]\n",
    "    un2=[]\n",
    "    for i in str(s):\n",
    "        n.append(i)\n",
    "    for i in str(t):\n",
    "        k.append(i)\n",
    "    for j in n:\n",
    "        if j in k:\n",
    "            un1.append(j)\n",
    "    for j in k:\n",
    "        if j in n:\n",
    "            un2.append(j)\n",
    "    un=un1+un2\n",
    "    un=set(un)\n",
    "    un=list(un)\n",
    "    return un"
   ]
  },
  {
   "cell_type": "code",
   "execution_count": 21,
   "id": "f9ce77b2",
   "metadata": {},
   "outputs": [
    {
     "data": {
      "text/plain": [
       "['e', 'y', 'm', 'M', 'n', 'i', 's', ' ', 'a']"
      ]
     },
     "execution_count": 21,
     "metadata": {},
     "output_type": "execute_result"
    }
   ],
   "source": [
    "common_words('My name is Darpan','My name is Tanay')"
   ]
  },
  {
   "cell_type": "markdown",
   "id": "c9ea9331",
   "metadata": {},
   "source": [
    "# 7.) Write a Python Program to check if a string contains any special character?"
   ]
  },
  {
   "cell_type": "code",
   "execution_count": 25,
   "id": "d0c3f08e",
   "metadata": {},
   "outputs": [],
   "source": [
    "def sp_char(s):\n",
    "    for i in str(s):\n",
    "        if i in ('!','@','#','$','%','^','&','*','~','?','<','>',',','.',';',':'):\n",
    "            return 'The String Contains a Speial Character'\n",
    "        else:\n",
    "            return \"This String Doesn't Contain any Special Character\""
   ]
  },
  {
   "cell_type": "code",
   "execution_count": 23,
   "id": "3b487695",
   "metadata": {},
   "outputs": [
    {
     "data": {
      "text/plain": [
       "'The String Contains a Speial Character'"
      ]
     },
     "execution_count": 23,
     "metadata": {},
     "output_type": "execute_result"
    }
   ],
   "source": [
    "sp_char('#nccocncln')"
   ]
  },
  {
   "cell_type": "code",
   "execution_count": 26,
   "id": "9922300c",
   "metadata": {},
   "outputs": [
    {
     "data": {
      "text/plain": [
       "\"This String Doesn't Contain any Special Character\""
      ]
     },
     "execution_count": 26,
     "metadata": {},
     "output_type": "execute_result"
    }
   ],
   "source": [
    "sp_char('incmoqcmec')"
   ]
  }
 ],
 "metadata": {
  "kernelspec": {
   "display_name": "Python 3 (ipykernel)",
   "language": "python",
   "name": "python3"
  },
  "language_info": {
   "codemirror_mode": {
    "name": "ipython",
    "version": 3
   },
   "file_extension": ".py",
   "mimetype": "text/x-python",
   "name": "python",
   "nbconvert_exporter": "python",
   "pygments_lexer": "ipython3",
   "version": "3.9.12"
  }
 },
 "nbformat": 4,
 "nbformat_minor": 5
}
