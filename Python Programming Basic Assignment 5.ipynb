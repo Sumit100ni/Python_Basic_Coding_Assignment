{
 "cells": [
  {
   "cell_type": "markdown",
   "metadata": {},
   "source": [
    "# 1. Write a Python Program to Find LCM?"
   ]
  },
  {
   "cell_type": "code",
   "execution_count": 16,
   "metadata": {},
   "outputs": [
    {
     "name": "stdout",
     "output_type": "stream",
     "text": [
      "Till Which Number Do you want to see: 1000\n",
      "Enter the first Number: 36\n",
      "Enter the second Number: 72\n",
      "The LCM of given 36 and 72 is: 72\n"
     ]
    }
   ],
   "source": [
    "n=int(input('Till Which Number Do you want to see: '))\n",
    "a=int(input('Enter the first Number: '))\n",
    "b=int(input('Enter the second Number: '))\n",
    "for i in range(1,n+1):\n",
    "    if i%a==0 and i%b==0:\n",
    "        lcm=i\n",
    "        break\n",
    "print('The LCM of given {} and {} is:'.format(a,b),lcm)"
   ]
  },
  {
   "cell_type": "markdown",
   "metadata": {},
   "source": [
    "# 2. Write a Python Program to Find HCF?"
   ]
  },
  {
   "cell_type": "code",
   "execution_count": 9,
   "metadata": {},
   "outputs": [
    {
     "name": "stdout",
     "output_type": "stream",
     "text": [
      "Enter the first Number: 12\n",
      "Enter the second Number: 18\n",
      "The Hcf of 12,18 is : 6\n"
     ]
    }
   ],
   "source": [
    "a=int(input('Enter the first Number: '))\n",
    "b=int(input('Enter the second Number: '))\n",
    "if a<b:\n",
    "    mn=a\n",
    "else:\n",
    "    mn=b\n",
    "for i in range(1,mn+1):\n",
    "    if a%i==0 and b%i==0:\n",
    "        hcf=i\n",
    "print('The Hcf of {},{} is :'.format(a,b),hcf)                    "
   ]
  },
  {
   "cell_type": "markdown",
   "metadata": {},
   "source": [
    "# 3. Write a Python Program to Convert Decimal to Binary, Octal and Hexadecimal?"
   ]
  },
  {
   "cell_type": "code",
   "execution_count": 23,
   "metadata": {},
   "outputs": [
    {
     "name": "stdout",
     "output_type": "stream",
     "text": [
      "Enter a Number: 344\n",
      "The decimal value of 344 is:\n",
      "0b101011000 in binary.\n",
      "0o530 in octal.\n",
      "0x158 in hexadecimal.\n"
     ]
    }
   ],
   "source": [
    "dec =int(input('Enter a Number: '))\n",
    "\n",
    "print(\"The decimal value of\", dec, \"is:\")\n",
    "print(bin(dec), \"in binary.\")\n",
    "print(oct(dec), \"in octal.\")\n",
    "print(hex(dec), \"in hexadecimal.\")"
   ]
  },
  {
   "cell_type": "markdown",
   "metadata": {},
   "source": [
    "# 4. Write a Python Program To Find ASCII value of a character?"
   ]
  },
  {
   "cell_type": "code",
   "execution_count": 22,
   "metadata": {},
   "outputs": [
    {
     "name": "stdout",
     "output_type": "stream",
     "text": [
      "enter a character: c\n",
      "The ASCII value of c is 99\n"
     ]
    }
   ],
   "source": [
    "c =input('enter a character: ')\n",
    "print(\"The ASCII value of \" + c + \" is\", ord(c))"
   ]
  },
  {
   "cell_type": "markdown",
   "metadata": {},
   "source": [
    "# 5. Write a Python Program to Make a Simple Calculator with 4 basic mathematical operations?"
   ]
  },
  {
   "cell_type": "code",
   "execution_count": 25,
   "metadata": {},
   "outputs": [
    {
     "name": "stdout",
     "output_type": "stream",
     "text": [
      "Enter the first Number: 67\n",
      "Enter the Second Number: 100\n",
      "enter what you need is it +,-,/,**\n",
      "6700\n"
     ]
    }
   ],
   "source": [
    "a=int(input('Enter the first Number: '))\n",
    "b=int(input('Enter the Second Number: '))\n",
    "d=input('enter what you need is it +,-,/,*')\n",
    "if d=='+':\n",
    "    print(a+b)\n",
    "elif d=='-':\n",
    "    print(a-b)\n",
    "elif d=='*':\n",
    "    print(a*b)\n",
    "elif d=='/':\n",
    "    print(a/b)"
   ]
  }
 ],
 "metadata": {
  "kernelspec": {
   "display_name": "Python 3",
   "language": "python",
   "name": "python3"
  },
  "language_info": {
   "codemirror_mode": {
    "name": "ipython",
    "version": 3
   },
   "file_extension": ".py",
   "mimetype": "text/x-python",
   "name": "python",
   "nbconvert_exporter": "python",
   "pygments_lexer": "ipython3",
   "version": "3.8.5"
  }
 },
 "nbformat": 4,
 "nbformat_minor": 4
}
