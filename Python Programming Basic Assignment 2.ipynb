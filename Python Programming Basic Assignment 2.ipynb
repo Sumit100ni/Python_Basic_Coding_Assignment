{
 "cells": [
  {
   "cell_type": "markdown",
   "metadata": {},
   "source": [
    "# 1. Write a Python program to convert kilometers to miles?"
   ]
  },
  {
   "cell_type": "code",
   "execution_count": 4,
   "metadata": {},
   "outputs": [
    {
     "name": "stdout",
     "output_type": "stream",
     "text": [
      "Enter the KM Value: 71982173832198\n",
      "The Value in Miles is:  44727635336286.7\n"
     ]
    }
   ],
   "source": [
    "km=int(input('Enter the KM Value: '))\n",
    "miles=0.621371*km\n",
    "print('The Value in Miles is: ',miles)"
   ]
  },
  {
   "cell_type": "markdown",
   "metadata": {},
   "source": [
    "# 2. Write a Python program to convert Celsius to Fahrenheit?"
   ]
  },
  {
   "cell_type": "code",
   "execution_count": 6,
   "metadata": {},
   "outputs": [
    {
     "name": "stdout",
     "output_type": "stream",
     "text": [
      "Enter the Temp in Celsius: -40\n",
      "The Temp in Fahrenheit is:  -40.0\n"
     ]
    }
   ],
   "source": [
    "cel=int(input('Enter the Temp in Celsius: '))\n",
    "farhn=(cel*1.8)+32\n",
    "print('The Temp in Fahrenheit is: ',farhn)"
   ]
  },
  {
   "cell_type": "markdown",
   "metadata": {},
   "source": [
    "# 3. Write a Python program to display calendar?"
   ]
  },
  {
   "cell_type": "code",
   "execution_count": 10,
   "metadata": {},
   "outputs": [
    {
     "name": "stdout",
     "output_type": "stream",
     "text": [
      "Enter the Year: 2022\n",
      "Enter the Month: 07\n",
      "The Month of the Entered details is this:\n",
      "      July 2022\n",
      "Mo Tu We Th Fr Sa Su\n",
      "             1  2  3\n",
      " 4  5  6  7  8  9 10\n",
      "11 12 13 14 15 16 17\n",
      "18 19 20 21 22 23 24\n",
      "25 26 27 28 29 30 31\n"
     ]
    }
   ],
   "source": [
    "import calendar\n",
    "\n",
    "yy=int(input('Enter the Year: '))\n",
    "mm=int(input('Enter the Month: '))\n",
    "print('The Month of the Entered details is this:\\n',calendar.month(yy,mm),end='')"
   ]
  },
  {
   "cell_type": "markdown",
   "metadata": {},
   "source": [
    "# 4. Write a Python program to solve quadratic equation?"
   ]
  },
  {
   "cell_type": "code",
   "execution_count": 11,
   "metadata": {
    "scrolled": true
   },
   "outputs": [
    {
     "name": "stdout",
     "output_type": "stream",
     "text": [
      "Enter The a Number with Respect to ax^2+bx+c: 2\n",
      "Enter The b Number with Respect to ax^2+bx+c: 3\n",
      "Enter The c Number with Respect to ax^2+bx+c: 4\n",
      "The Factors of the given input is: (-0.75-1.1989578808281798j) (-0.75+1.1989578808281798j)\n"
     ]
    }
   ],
   "source": [
    "import cmath\n",
    "\n",
    "a=int(input('Enter The a Number with Respect to ax^2+bx+c: '))\n",
    "b=int(input('Enter The b Number with Respect to ax^2+bx+c: '))\n",
    "c=int(input('Enter The c Number with Respect to ax^2+bx+c: '))\n",
    "\n",
    "d=(b**2)-(4*a*c)\n",
    "s1=(-b-cmath.sqrt(d))/(2*a)\n",
    "s2=(-b+cmath.sqrt(d))/(2*a)\n",
    "print('The Factors of the given input is:',s1,s2)"
   ]
  },
  {
   "cell_type": "markdown",
   "metadata": {},
   "source": [
    "# 5. Write a Python program to swap two variables without temp variable?"
   ]
  },
  {
   "cell_type": "code",
   "execution_count": 14,
   "metadata": {},
   "outputs": [
    {
     "name": "stdout",
     "output_type": "stream",
     "text": [
      "Enter the First Number: 23\n",
      "Enter the Second Number: 32\n",
      "Now The Value of First Number is:  32\n",
      "Now The Value of Second Number is:  23\n"
     ]
    }
   ],
   "source": [
    "a=int(input('Enter the First Number: '))\n",
    "b=int(input('Enter the Second Number: '))\n",
    "a,b=b,a\n",
    "print('Now The Value of First Number is: ',a)\n",
    "print('Now The Value of Second Number is: ',b)"
   ]
  }
 ],
 "metadata": {
  "kernelspec": {
   "display_name": "Python 3",
   "language": "python",
   "name": "python3"
  },
  "language_info": {
   "codemirror_mode": {
    "name": "ipython",
    "version": 3
   },
   "file_extension": ".py",
   "mimetype": "text/x-python",
   "name": "python",
   "nbconvert_exporter": "python",
   "pygments_lexer": "ipython3",
   "version": "3.8.5"
  }
 },
 "nbformat": 4,
 "nbformat_minor": 4
}
