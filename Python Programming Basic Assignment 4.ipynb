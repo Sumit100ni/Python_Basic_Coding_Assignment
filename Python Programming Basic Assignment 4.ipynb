{
 "cells": [
  {
   "cell_type": "markdown",
   "metadata": {},
   "source": [
    "# 1. Write a Python Program to Find the Factorial of a Number?"
   ]
  },
  {
   "cell_type": "code",
   "execution_count": 6,
   "metadata": {},
   "outputs": [
    {
     "name": "stdout",
     "output_type": "stream",
     "text": [
      "Enter the Number Whose Factorial You Need:5\n",
      "120\n"
     ]
    }
   ],
   "source": [
    "n=int(input('Enter the Number Whose Factorial You Need:'))\n",
    "s=1\n",
    "for i in range(1,n+1):\n",
    "    if n==0:\n",
    "        print(1)\n",
    "    elif n==1:\n",
    "        print(1)\n",
    "    else:\n",
    "        s=s*i\n",
    "print(s)"
   ]
  },
  {
   "cell_type": "markdown",
   "metadata": {},
   "source": [
    "# 2. Write a Python Program to Display the multiplication Table?"
   ]
  },
  {
   "cell_type": "code",
   "execution_count": 14,
   "metadata": {
    "scrolled": true
   },
   "outputs": [
    {
     "name": "stdout",
     "output_type": "stream",
     "text": [
      "Enter a Table you want to show till 10:7\n",
      "7 * 1 = 7\n",
      "7 * 2 = 14\n",
      "7 * 3 = 21\n",
      "7 * 4 = 28\n",
      "7 * 5 = 35\n",
      "7 * 6 = 42\n",
      "7 * 7 = 49\n",
      "7 * 8 = 56\n",
      "7 * 9 = 63\n",
      "7 * 10 = 70\n"
     ]
    }
   ],
   "source": [
    "t=int(input('Enter a Table you want to show till 10:'))\n",
    "for i in range(1,11):\n",
    "    print(t,'*',i,'=',i*t)"
   ]
  },
  {
   "cell_type": "markdown",
   "metadata": {},
   "source": [
    "# 3. Write a Python Program to Print the Fibonacci sequence?"
   ]
  },
  {
   "cell_type": "code",
   "execution_count": 4,
   "metadata": {},
   "outputs": [
    {
     "name": "stdout",
     "output_type": "stream",
     "text": [
      "Enter a number whose fibonacci seq you want:10\n",
      "0\n",
      "1\n",
      "1\n",
      "2\n",
      "3\n",
      "5\n",
      "8\n",
      "13\n",
      "21\n",
      "34\n",
      "55\n"
     ]
    }
   ],
   "source": [
    "n=int(input('Enter a number whose fibonacci seq you want:'))\n",
    "a=0\n",
    "b=1\n",
    "if n==0:\n",
    "    print(a)\n",
    "elif n==1:\n",
    "    print(a)\n",
    "    print(b)\n",
    "else:\n",
    "    print(a)\n",
    "    print(b)\n",
    "for i in range(2,n+1):\n",
    "    c=a+b\n",
    "    a=b\n",
    "    b=c\n",
    "    print(c)"
   ]
  },
  {
   "cell_type": "markdown",
   "metadata": {},
   "source": [
    "# 4. Write a Python Program to Check Armstrong Number?"
   ]
  },
  {
   "cell_type": "code",
   "execution_count": 18,
   "metadata": {},
   "outputs": [
    {
     "name": "stdout",
     "output_type": "stream",
     "text": [
      "Enter a Number to Check Whether it is a Armstrong Number or not:1634\n",
      "The Number Entered Here 1634 is an Armstrong Number\n"
     ]
    }
   ],
   "source": [
    "n=input('Enter a Number to Check Whether it is a Armstrong Number or not:')\n",
    "l=[]\n",
    "for i in n:\n",
    "    l.append(i)\n",
    "s=0\n",
    "a=0\n",
    "for i in l:\n",
    "    a=int(i)**int(len(l))\n",
    "    s+=a\n",
    "if str(s)==n:\n",
    "    print('The Number Entered Here',n,'is an Armstrong Number')\n",
    "else:\n",
    "    print('The Number Entered Here',n,' is not a Armstrong Number')"
   ]
  },
  {
   "cell_type": "code",
   "execution_count": 17,
   "metadata": {},
   "outputs": [
    {
     "name": "stdout",
     "output_type": "stream",
     "text": [
      "308\n"
     ]
    }
   ],
   "source": [
    "a=1**3\n",
    "b=6**3\n",
    "c=3**3\n",
    "d=4**3\n",
    "print(a+b+c+d)"
   ]
  },
  {
   "cell_type": "markdown",
   "metadata": {},
   "source": [
    "# 5. Write a Python Program to Find Armstrong Number in an Interval?"
   ]
  },
  {
   "cell_type": "code",
   "execution_count": 25,
   "metadata": {},
   "outputs": [
    {
     "name": "stdout",
     "output_type": "stream",
     "text": [
      "Enter The Start Number:153\n",
      "Enter The End Number:2000\n",
      "[153, 370, 371, 407, 1634]\n"
     ]
    }
   ],
   "source": [
    "a=int(input('Enter The Start Number:'))\n",
    "b=int(input('Enter The End Number:'))\n",
    "l=[]\n",
    "dis=[]\n",
    "for i in range(a,b+1):\n",
    "    s=0\n",
    "    m=str(i)\n",
    "    for j in m:\n",
    "        l.append(j)\n",
    "        for k in l:\n",
    "            c=int(k)**len(m)\n",
    "            s+=c\n",
    "        l.clear()\n",
    "    if str(s)==m:\n",
    "        dis.append(int(m))\n",
    "print(dis)    "
   ]
  },
  {
   "cell_type": "markdown",
   "metadata": {},
   "source": [
    "# 6. Write a Python Program to Find the Sum of Natural Numbers?"
   ]
  },
  {
   "cell_type": "code",
   "execution_count": 16,
   "metadata": {},
   "outputs": [
    {
     "name": "stdout",
     "output_type": "stream",
     "text": [
      "Enter a Number till you required the Sum:11\n",
      "The Sum of all Natural number Till 11 is: 66\n"
     ]
    }
   ],
   "source": [
    "n=int(input('Enter a Number till you required the Sum:'))\n",
    "a=0\n",
    "if n==0:\n",
    "    print('Invalid Input')\n",
    "else:\n",
    "    for i in range(1,n+1):\n",
    "        a=a+i\n",
    "    print('The Sum of all Natural number Till',n,'is:',a)"
   ]
  }
 ],
 "metadata": {
  "kernelspec": {
   "display_name": "Python 3",
   "language": "python",
   "name": "python3"
  },
  "language_info": {
   "codemirror_mode": {
    "name": "ipython",
    "version": 3
   },
   "file_extension": ".py",
   "mimetype": "text/x-python",
   "name": "python",
   "nbconvert_exporter": "python",
   "pygments_lexer": "ipython3",
   "version": "3.8.5"
  }
 },
 "nbformat": 4,
 "nbformat_minor": 4
}
